{
  "nbformat": 4,
  "nbformat_minor": 0,
  "metadata": {
    "colab": {
      "name": "Project 4",
      "provenance": [],
      "collapsed_sections": []
    },
    "kernelspec": {
      "name": "python3",
      "display_name": "Python 3"
    }
  },
  "cells": [
    {
      "cell_type": "markdown",
      "metadata": {
        "id": "kw62klmxOLuu",
        "colab_type": "text"
      },
      "source": [
        "**Name**: Brandon Loptman\n",
        "\n",
        "**Total Score**: 20/20\n",
        "\n",
        "Code Tests:\n",
        "\n",
        "Completed Tests: 3/3 \n",
        "\n",
        "Tests Explained: 2/2\n",
        "\n",
        "Application to Physical Systems Modeling:\n",
        "8/8 \n",
        "\n",
        "General:\n",
        "\n",
        "Run without problems: 1/1\n",
        "\n",
        "Correct structure: 1/1\n",
        "\n",
        "Logical flow: 1/1\n",
        "\n",
        "Good graphical representaions: 3/3 \n",
        "\n",
        "Graphs have axes, labels, ticks, titles, etc.: 1/1 \n",
        "\n",
        "**Comments**:\n",
        "\n",
        "**Description**:\n",
        "\n",
        "Code Tests\n",
        "\n",
        "(3 pts) If code tests are suggested, all such tests are completed.  If code tests aren’t suggested, student has articulated their own code tests and executed those tests to show that code is working properly in at least some small number of obvious cases.  The more robust the code tests are, the better.\n",
        "\n",
        "(2 pts) All code tests are explained in complete sentences in text cells (along with any relevant mathematics).  There is a reasonable amount of explanation of how one knows that the code tests have been passed.\n",
        "\n",
        "Application of Code to Physical Systems Modeling\n",
        "\n",
        "(8 pts) Notebook contains a mixture of explanation text in complete sentences (with math where appropriate) and graphs/other visual representations illustrating how the computer model exhibits the relevant phenomena predicted by the mathematical model of the system.  All prompts have been answered.\n",
        "\n",
        "General\n",
        "\n",
        "(1 pts) The whole notebook can be re-started and re-run without halting due to any coding errors.\n",
        "\n",
        "(1 pts) The notebook has the correct general structure (code tests placed in the beginning and application of code to analysis of relevant physical systems after).\n",
        "\n",
        "(1 pts) Flow of notebook is logical, clear, and concise.\n",
        "\n",
        "(3 pts) Graphical/visual representations are used to concisely illustrate results of code tests and simulations.\n",
        "\n",
        "(1 pts) All graphs with axes have labels on axes with units and tick marks where appropriate.\n"
      ]
    },
    {
      "cell_type": "markdown",
      "metadata": {
        "id": "mRi4aS5w-BrU",
        "colab_type": "text"
      },
      "source": [
        "# Project 4 (Path Integral Monte Carlo)"
      ]
    },
    {
      "cell_type": "markdown",
      "metadata": {
        "id": "hFno37Bu9bFw",
        "colab_type": "text"
      },
      "source": [
        "##Abstract"
      ]
    },
    {
      "cell_type": "markdown",
      "metadata": {
        "id": "a--_NfCw80gb",
        "colab_type": "text"
      },
      "source": [
        "Our project was about numerically approximating ensemble averages of a system using Markov Chain-Monte Carlo (MCMC) simulations. In particular, we applied the Feynmann path integral formulation of quantum mechanics to the quantum harmonic oscillator to determine the ensemble average energy $\\langle \\hat{H} \\rangle$ using the Metropolis algorithm. For our MCMC simulations we used a paths consisting of five points over a range of $\\beta \\in [.01,10]$. The values of $\\langle \\hat{H} \\rangle$ obtained from our MCMC simulations agreed very strongly with the analytical result, differing on average by only 2.89%."
      ]
    },
    {
      "cell_type": "markdown",
      "metadata": {
        "id": "R8OVQ0_M9f4X",
        "colab_type": "text"
      },
      "source": [
        "## Physical System and Model"
      ]
    },
    {
      "cell_type": "markdown",
      "metadata": {
        "id": "ulu38Qp4Jz_o",
        "colab_type": "text"
      },
      "source": [
        "Equilibrium statistical mechanics is based upon the idea of a partition function which contains all of the essential information about the system under consideration. The partition function $Z$ is the sum over all states of the Boltzmann factor for each state. Recall, that the Boltzmann factor for a state $s$ is given by $e^{-E_{s}/k_{b}T}$ where $E_{s}$ is the energy of state $s$, $k_{b}$ is the Boltzmann's constant, and $T$ is the temperature in Kelvin. This is often written as $e^{E_{s}\\beta}$, where $\\beta = \\tfrac{1}{k_{b}T}$. Thus, the partition function is:\n",
        "\n",
        "$$\n",
        "  Z = \\sum_{\\mbox{all states}} e^{-E_{s}\\beta}\n",
        "$$\n",
        "\n",
        "The above sum is over all states of the system and thus depends on size of the system and the number of degrees of freedom for each particle. For systems consisting of only a few interacting particles the partition function can be written down exactly, thus the properties of the system can be calculated in a closed form. \n",
        "\n",
        "A classic example of a system for which the partition function can be computed exactly is the quantum harmonic oscillator. Recall, that the energy of the quantum harmonic oscillator is given by\n",
        "\n",
        "$$\n",
        "  E_{n} = (\\tfrac{1}{2} + n) \\hbar \\omega\n",
        "$$\n",
        "\n",
        "where $\\omega$ is the angular frequency of the oscillator and \n",
        "$n \\in (0,1,2,\\dots)$. Plugging this into the equation for the parition function we get\n",
        "\n",
        "$$\n",
        "  Z = \\sum_{n=0}^{\\infty} e^{-E_{n}\\beta} = e^{-\\tfrac{1}{2} \\beta \\hbar \\omega} \\sum_{n=0}^{\\infty} e^{-n \\beta\\hbar\\omega}\n",
        "$$\n",
        "\n",
        "The sum over n above is an infinite geometric series and can be evaluated immediately. The result is\n",
        "\n",
        "$$\n",
        "  \\sum_{n=0}^{\\infty} e^{-n \\beta \\hbar \\omega} = \\frac{1}{1 - e^{\\beta\\hbar\\omega}}\n",
        "$$\n",
        "\n",
        "Thus, the partition function takes the form \n",
        "\n",
        "$$\n",
        "  Z_{Oscillator} = -\\frac{1}{2}\\frac{\\beta \\hbar \\omega}{1 - e^{\\beta\\hbar\\omega}}\n",
        "$$\n",
        "\n",
        "We can also recall from statistical mechanics that the average energy of a system $\\langle \\hat{H} \\rangle$ is given by\n",
        "\n",
        "$$\n",
        "  \\langle \\hat{H} \\rangle = - \\frac{\\partial}{\\partial \\beta} \\ln{Z}\n",
        "$$\n",
        "\n",
        "Thus, the average energy of the quantum harmonic oscillator is given by \n",
        "\n",
        "$$\n",
        "  \\langle \\hat{H} \\rangle_{Oscillator} = \\hbar\\omega (\\tfrac{1}{2} + \\tfrac{1}{e^{\\beta\\hbar\\omega}-1})\n",
        "$$"
      ]
    },
    {
      "cell_type": "markdown",
      "metadata": {
        "id": "c6JpxKGCBnft",
        "colab_type": "text"
      },
      "source": [
        "In general, the partition function cannot be evaluated exactly. Not only this, but if the number of states is large (as it is for real systems) the partition function becomes impossible to compute on a computer. Fortunately, there are methods by which we can still compute properties of systems without explicitly knowing its partition function.\n",
        "\n",
        "One such way is using Feynmann's path integral formulation of quantum mechanics in conjunction with MCMC. This is called path integral Monte-Carlo. The derivation is laborious (and done by the professor in his notes) so I will omit it here. The relevant results are:\n",
        "\n",
        "$$\n",
        "  \\langle \\hat H\\rangle_N = \\frac{\\int_{\\mathbb R^N}d^Nq\\,\\Phi(\\vec q) \\,e^{-U(\\vec q)}}{\\int_{\\mathbb R^N}d^Nq\\,e^{-U(\\vec q)}}, \\qquad \\Phi(\\vec q) = \\frac{1}{N}\\sum_{i=1}^N\\left[V(q_i) + \\frac{1}{2}q_i V'(q_i)\\right], \\qquad U(\\vec q) = \\sum_{i=1}^N\\left[\\frac{m}{2(\\beta/N)\\hbar^2}\\left(q_{i+1}-q_i\\right)^2 + (\\beta/N) V(q_i)\\right]\n",
        "$$\n",
        "\n",
        "where $\\vec q = (q_1, q_2, \\dots, q_N)$. To apply the this to MCMC, one needs to sample points from this space according to the un-normalized probability distribution $e^{-U(\\vec q)}$ using the Metropolis-Hastings algorithm (this is discussed more in the next section).  \n",
        "\n",
        "In order to do this in the case of the quantum harmonic oscillator we need to recall the potential of the quantum harmonic oscillator in one dimension is given by\n",
        "$$\n",
        "  V = \\tfrac{1}{2}m x^{2} \\omega^{2}\n",
        "$$\n",
        "\n",
        "where $m$ is the mass and $x$ is the displacement from equalibrium of the oscillator."
      ]
    },
    {
      "cell_type": "markdown",
      "metadata": {
        "id": "_eBKPKai9iiB",
        "colab_type": "text"
      },
      "source": [
        "## Algorithms"
      ]
    },
    {
      "cell_type": "markdown",
      "metadata": {
        "id": "0ebAHPbCJuwt",
        "colab_type": "text"
      },
      "source": [
        "The main algorithm we are using to numerically determine $\\langle \\hat{H} \\rangle$ is the Metropolis algorithm. The Metropolis algorithm is a simple algorithm for producing samples from distributions that may otherwise be difficult to sample from.  \n",
        "\n",
        "Suppose we want to sample from a distribution $\\pi$. The Metropolis algorithm works by simulating a Markov Chain, whose stationary distribution is $\\pi$. This means that, in the long run, the samples from the Markov chain look like the samples from $\\pi$.   \n",
        "\n",
        "The algorithm runs as follows:\n",
        "1. Initiate the sequence of samples in a state $s_{1}$ of your own choosing.\n",
        "2. If $s$ is the current state, propose a new state $s'$ according to a conditional probability distribution of our own choosing, defined such that $r(s'|s)$ is the probability of proposing $s'$ given the current state is $s$.\n",
        "3. Accept the proposed state, namely add it as the next state in the sample sequence, with probability\n",
        "\n",
        "$$\n",
        "  A(s|s') = \\mbox{min}(1,\\tfrac{p_{s'}}{p_{s}})\n",
        "$$\n",
        "\n",
        "If the proposed state is not accepted, add the current state $s$ to your sequence instead as the next state.\n",
        "\n",
        "4. Repeat from step 2 for a large number of samples.\n",
        "\n",
        "For our implementation of the Metropolis algorithm for the path integral we closely follow the procedure of Å. Larsen and F. Ravndal in the paper provided by the professor. It is as follows:\n",
        "\n",
        "1. Start from some arbitrary path $q$.\n",
        "2. For each point $q_{i}$ in the path, we propose a new point $q_{i}'$ by generating a random value uniformly on $(q_{i} - \\Delta,q_{i} + \\Delta)$, where $\\Delta = 1$.\n",
        "3. Accept or reject the proposed state according to probability distribution $e^{-U(q)}$. This step is repeated $\\bar{n} = 5$ times for each $q_{i}$.\n",
        "4. Return to step 2 and repeat for each $q_{i}$ in $q$.\n",
        "\n",
        "Going through all points in the path constitute on Monte Carlo iteration. The reason we repeat step 3 $\\bar{n}$ times is because Å. Larsen and F. Ravndal claim this improves convergence to equilibrium."
      ]
    },
    {
      "cell_type": "markdown",
      "metadata": {
        "id": "s4Zh2F_xbNur",
        "colab_type": "text"
      },
      "source": [
        "For the problem of the quantum harmonic oscillator, as we have already seen, the partition function can be found analytically. Thus, we are able to compute whatever ensemble averages we want to exactly. For this reason this elaborate algorithmic approach is not necessary in this specific case, though it does serve as a good example of how to apply the path integral Monte Carlo method to more complex problems where the partition function is not known/cannot be written in a closed form easily."
      ]
    },
    {
      "cell_type": "markdown",
      "metadata": {
        "id": "j3ernjrr9lsP",
        "colab_type": "text"
      },
      "source": [
        "## Code"
      ]
    },
    {
      "cell_type": "markdown",
      "metadata": {
        "id": "7A-BvNscNSkM",
        "colab_type": "text"
      },
      "source": [
        "The following cell contains the main functions and modules used to obtain our results."
      ]
    },
    {
      "cell_type": "code",
      "metadata": {
        "id": "43T5tnBtiI7p",
        "colab_type": "code",
        "colab": {}
      },
      "source": [
        "import numpy as np\n",
        "import matplotlib.pyplot as plt\n",
        "from scipy import constants\n",
        "plt.style.use(\"ggplot\")\n",
        "\n",
        "h_bar = 1 #constant of nature, set to 1 for convenience \n",
        "\n",
        "def V(q,m=1,omega=1):\n",
        "  \"\"\"\n",
        "  \"\"\"\n",
        "  return 0.5 * m * (omega**2) * (q**2)\n",
        "\n",
        "def dV(q,m=1,omega=1):\n",
        "  \"\"\"\n",
        "  \"\"\"\n",
        "  return m * (omega**2) * q\n",
        "\n",
        "def Phi(q,m=1,omega=1):\n",
        "  \"\"\"\n",
        "  \"\"\"\n",
        "  N = np.size(q)\n",
        "  term = V(q,m,omega) + (0.5 * q * dV(q,m,omega))\n",
        "  return np.sum(term)/N\n",
        "\n",
        "def U(q,beta=1,m=1,omega=1):\n",
        "  \"\"\"\n",
        "  \"\"\"\n",
        "  N = np.size(q)\n",
        "  term = np.zeros(N)\n",
        "\n",
        "  for i in range(N-1):\n",
        "    term[i] = (m*(q[i+1]-q[i])**2)/(2*(beta/N)*(h_bar**2)) + (beta/N)*V(q[i])  \n",
        "\n",
        "  term[N-1] = (m*(q[0]-q[N-1])**2)/(2*(beta/N)*(h_bar**2)) + (beta/N)*V(q[i])\n",
        "\n",
        "  return np.sum(term)\n",
        "\n",
        "def prob(U):\n",
        "  \"\"\"\n",
        "  \"\"\"\n",
        "  return np.exp(-U)\n",
        "\n",
        "def exact_H(beta,omega=1):\n",
        "  \"\"\"\n",
        "  \"\"\"\n",
        "  return (h_bar * omega) * (0.5 + (np.exp(beta*h_bar*omega)-1)**-1)\n",
        "\n",
        "def inital_config(N):\n",
        "  \"\"\"\n",
        "  \"\"\"\n",
        "  return np.random.uniform(-1,1,N)\n",
        "\n",
        "def path_integral_mcmc(q,m,beta,omega,num_steps,delta=1,n_bar=5):\n",
        "  \"\"\"\n",
        "  \"\"\"\n",
        "  N = np.size(q)\n",
        "  q_proposed = np.zeros(N)\n",
        "\n",
        "  p_current = prob(U(q,beta,m,omega))\n",
        "  p_proposed = 0\n",
        "\n",
        "  H_avg = np.zeros(num_steps)\n",
        "  H_avg[0] = Phi(q,m,omega)\n",
        "\n",
        "  for i in range(num_steps-1):\n",
        "    for j in range(N):\n",
        "      for k in range(n_bar):\n",
        "        q_proposed = np.copy(q)\n",
        "        q_proposed[j] = np.random.uniform(q[j]-delta,q[j]+delta)\n",
        "\n",
        "        p_proposed = prob(U(q_proposed,beta,m,omega))\n",
        "\n",
        "        if np.random.rand() < min(1,p_proposed/p_current):\n",
        "          q[j] = q_proposed[j]\n",
        "          p_current = prob(U(q,beta,m,omega))\n",
        "\n",
        "    H_avg[i+1] = H_avg[i] + (Phi(q,m=1,omega=1)-H_avg[i])/(i+2)\n",
        "\n",
        "  return q, H_avg"
      ],
      "execution_count": null,
      "outputs": []
    },
    {
      "cell_type": "markdown",
      "metadata": {
        "id": "i91Dt5m39suK",
        "colab_type": "text"
      },
      "source": [
        "## Results"
      ]
    },
    {
      "cell_type": "markdown",
      "metadata": {
        "id": "XfOi1ESQOiom",
        "colab_type": "text"
      },
      "source": [
        "In the following cells we run code to obtain our results."
      ]
    },
    {
      "cell_type": "code",
      "metadata": {
        "id": "iclISDqKPDsK",
        "colab_type": "code",
        "colab": {}
      },
      "source": [
        "#Running MCMC to approximate <H> for various values of beta.\n",
        "#Takes awhile to run...\n",
        "betas_1 = np.array([.1,.3,.5,.7,.9,2,4,6,8,10])\n",
        "H_avg = np.zeros(np.size(betas_1))\n",
        "\n",
        "m = 1\n",
        "omega = 1\n",
        "\n",
        "N = 5\n",
        "delta = 1\n",
        "n_bar = 5\n",
        "num_steps = np.array([80000,80000,80000,80000,80000,50000,50000,50000,50000,50000])\n",
        "\n",
        "for i in range(np.size(betas_1)):\n",
        "  q = inital_config(N)\n",
        "  q, H = path_integral_mcmc(q,m,betas_1[i],omega,num_steps[i])\n",
        "  H_avg[i] = H[-1]"
      ],
      "execution_count": null,
      "outputs": []
    },
    {
      "cell_type": "code",
      "metadata": {
        "id": "1GxO1soHPSnW",
        "colab_type": "code",
        "colab": {}
      },
      "source": [
        "#Getting exact values of <H> for various values of beta.\n",
        "betas_2 = np.linspace(.01,10,100)\n",
        "H_avg_exact = exact_H(betas_2,omega)"
      ],
      "execution_count": null,
      "outputs": []
    },
    {
      "cell_type": "code",
      "metadata": {
        "id": "W9fqTIaXPzz6",
        "colab_type": "code",
        "colab": {
          "base_uri": "https://localhost:8080/",
          "height": 314
        },
        "outputId": "43e59f4f-c42d-4e23-aee6-c236317642f4"
      },
      "source": [
        "#Plotting our results.\n",
        "plt.figure(figsize=(8,4)) \n",
        "\n",
        "plt.scatter(betas_1,H_avg,label=\"MCMC\")\n",
        "plt.plot(betas_2,H_avg_exact,linestyle=\"--\",label=\"Exact\",color=\"blue\")\n",
        "\n",
        "plt.title(r\"$\\langle \\hat{H} \\rangle$ for various values of $\\beta$\",fontsize=18)\n",
        "plt.xlabel(r\"$\\beta$ (1/$k_{b}$T)\")\n",
        "plt.ylabel(r\"$\\langle \\hat{H} \\rangle$ (Joules)\")\n",
        "\n",
        "plt.ylim(0,12)\n",
        "\n",
        "plt.legend()\n",
        "plt.show()"
      ],
      "execution_count": null,
      "outputs": [
        {
          "output_type": "display_data",
          "data": {
            "image/png": "[encoded data removed]",
            "text/plain": [
              "<Figure size 576x288 with 1 Axes>"
            ]
          },
          "metadata": {
            "tags": []
          }
        }
      ]
    },
    {
      "cell_type": "markdown",
      "metadata": {
        "id": "dc_oqOdy5JnP",
        "colab_type": "text"
      },
      "source": [
        "From the above code cell, we can qualitatively verify that the values of $\\langle \\hat{H} \\rangle$ attained from our path integral Monte Carlo simulation agree very well with the exact values of $\\langle \\hat{H} \\rangle$ found analytically. A simple way we can quantitatively show the accuracy of our results is by calculating the percent error between our approximate values and the exact values of $\\langle \\hat{H} \\rangle$. This is done in the following cell."
      ]
    },
    {
      "cell_type": "code",
      "metadata": {
        "id": "rQwM4-KbB1g-",
        "colab_type": "code",
        "colab": {
          "base_uri": "https://localhost:8080/",
          "height": 102
        },
        "outputId": "ee8f5919-280c-49a9-86ed-617baabea950"
      },
      "source": [
        "#Calculating percent errors.\n",
        "H_avg_exact_2 = exact_H(betas_1,omega)\n",
        "\n",
        "percent_diff = (np.abs(H_avg_exact_2 - H_avg)/H_avg_exact_2)*100\n",
        "avg = np.sum(percent_diff)/np.size(percent_diff)\n",
        "\n",
        "print(\"Percent difference for each beta value: \\n\", percent_diff,\"\\n\")\n",
        "print(\"Average percent differance: \",avg)"
      ],
      "execution_count": null,
      "outputs": [
        {
          "output_type": "stream",
          "text": [
            "Percent difference for each point: \n",
            " [4.95034444 5.01568641 1.1105442  5.4308563  3.32181376 3.45835661\n",
            " 0.18165948 2.28718827 1.92065033 1.21397751] \n",
            "\n",
            "Average percent differance:  2.8891077314405402\n"
          ],
          "name": "stdout"
        }
      ]
    },
    {
      "cell_type": "markdown",
      "metadata": {
        "id": "hrmuBzT_FLzt",
        "colab_type": "text"
      },
      "source": [
        "Even though we are using a relatively small number of points to form our paths ($N = 5$) the results of our simulation are still very accurate, having an average percent error of 2.89% and a maximum percent error of 5.43%. Because the difference between the approximate and exact values of $\\langle \\hat{H} \\rangle$ is very small (that is, the approximate values are very nearly equal to the exact values) we can be fairly confident that our results are trustworthy and accurate.\n",
        "\n",
        "If we were to increase the value of $N$ our results would most likely become even closer to the true values of $\\langle \\hat{H} \\rangle$."
      ]
    },
    {
      "cell_type": "markdown",
      "metadata": {
        "id": "73uCcP4V9udl",
        "colab_type": "text"
      },
      "source": [
        "## References"
      ]
    },
    {
      "cell_type": "markdown",
      "metadata": {
        "id": "jOYTcyOqmsBl",
        "colab_type": "text"
      },
      "source": [
        "**Textbooks:**  \n",
        "* [*A Guide to Monte-Carlo Simulations in Statistical Physics*](https://el.us.edu.pl/ekonofizyka/images/6/6b/A_guide_to_monte_carlo_simulations_in_statistical_physics.pdf) by David P. Lanadu and Kurt Binder\n",
        "\n",
        "**Papers:**\n",
        "* [*The harmonic oscillator at finite temperature using path integrals*](https://courses.physics.ucsd.edu/2017/Spring/physics142/Lectures/Lecture14/Larsen.pdf) by Å. Larsen and F. Ravndal\n",
        "\n",
        "**Lecture Notes:**\n",
        "* [Professor Samani's notes on MCMC and Feynmann Path Integral](https://drive.google.com/drive/u/1/folders/1nergRg0IK9ks8kbN0rmyAjaaxSTvAQY6)\n",
        "\n",
        "* [Hitoshi Murayama's (UC Berkeley) note on the Feynmann Path Integral](http://hitoshi.berkeley.edu/221A/pathintegral.pdf)"
      ]
    }
  ]
}